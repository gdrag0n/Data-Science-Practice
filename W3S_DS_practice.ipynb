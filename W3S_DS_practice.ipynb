{
  "nbformat": 4,
  "nbformat_minor": 0,
  "metadata": {
    "colab": {
      "provenance": [],
      "collapsed_sections": [
        "56pqS7gVsaY9"
      ]
    },
    "kernelspec": {
      "name": "python3",
      "display_name": "Python 3"
    },
    "language_info": {
      "name": "python"
    }
  },
  "cells": [
    {
      "cell_type": "markdown",
      "source": [
        "# W3S\n",
        "```https://www.w3schools.com/datascience/```"
      ],
      "metadata": {
        "id": "sF2cZFw6ChkI"
      }
    },
    {
      "cell_type": "markdown",
      "source": [],
      "metadata": {
        "id": "ruT-zUOZ5j0a"
      }
    },
    {
      "cell_type": "markdown",
      "source": [
        "Libraries\n",
        "\n",
        "\n",
        "*   Pandas: structured data ops (```import csv, create dfd, data preparation```)\n",
        "*   NumPy: math lib (```N-dim arr, lind alg, fourier transformation, etc```)\n",
        "*Matplotlib: data viz\n",
        "*SciPy: lin alg models\n",
        "\n"
      ],
      "metadata": {
        "id": "ylRN2K6kCsd_"
      }
    },
    {
      "cell_type": "markdown",
      "source": [
        "\n",
        "\n",
        "---\n",
        "\n"
      ],
      "metadata": {
        "id": "x8JeFci1JcDA"
      }
    },
    {
      "cell_type": "markdown",
      "source": [
        "# Creating Data Set"
      ],
      "metadata": {
        "id": "hQEKF0imJc8o"
      }
    },
    {
      "cell_type": "code",
      "execution_count": null,
      "metadata": {
        "id": "0dz0MYfnCZp4"
      },
      "outputs": [],
      "source": [
        "import pandas as pd\n",
        "d = {'col1': [1, 2, 3, 4, 7],\n",
        "     'col2': [4, 5, 6, 9, 5],\n",
        "     'col3': [7, 8, 12, 1, 11]}\n",
        "\n",
        "#d={'col_name': list}\n",
        "df=pd.DataFrame(data=d)"
      ]
    },
    {
      "cell_type": "markdown",
      "source": [
        "data"
      ],
      "metadata": {
        "id": "V9vNGybcExA-"
      }
    },
    {
      "cell_type": "code",
      "source": [
        "print(df)"
      ],
      "metadata": {
        "colab": {
          "base_uri": "https://localhost:8080/"
        },
        "id": "dBOBV8PBEFoQ",
        "outputId": "f56f00ff-8f8e-4ee6-9105-a46e023daca0"
      },
      "execution_count": null,
      "outputs": [
        {
          "output_type": "stream",
          "name": "stdout",
          "text": [
            "   col1  col2  col3\n",
            "0     1     4     7\n",
            "1     2     5     8\n",
            "2     3     6    12\n",
            "3     4     9     1\n",
            "4     7     5    11\n"
          ]
        }
      ]
    },
    {
      "cell_type": "markdown",
      "source": [
        "column count: ```df.shape[1]```"
      ],
      "metadata": {
        "id": "qTD2vtNaEuGP"
      }
    },
    {
      "cell_type": "code",
      "source": [
        "count_col=df.shape[1]\n",
        "print(count_col)"
      ],
      "metadata": {
        "colab": {
          "base_uri": "https://localhost:8080/"
        },
        "id": "R6S5296mEirg",
        "outputId": "3c76cd39-5162-48cb-f120-e9c10bd8c11b"
      },
      "execution_count": null,
      "outputs": [
        {
          "output_type": "stream",
          "name": "stdout",
          "text": [
            "3\n"
          ]
        }
      ]
    },
    {
      "cell_type": "markdown",
      "source": [
        "row count: ```df.shape[0]```"
      ],
      "metadata": {
        "id": "pc1vzOJIE_fP"
      }
    },
    {
      "cell_type": "code",
      "source": [
        "count_row=df.shape[0]\n",
        "print(count_row)"
      ],
      "metadata": {
        "colab": {
          "base_uri": "https://localhost:8080/"
        },
        "id": "XrIv7yTcFLhv",
        "outputId": "55fe6f12-5bea-4dd3-bb23-336a7881346f"
      },
      "execution_count": null,
      "outputs": [
        {
          "output_type": "stream",
          "name": "stdout",
          "text": [
            "5\n"
          ]
        }
      ]
    },
    {
      "cell_type": "markdown",
      "source": [
        "dimensions of df: (row,col)"
      ],
      "metadata": {
        "id": "UP1zYDNcFdzQ"
      }
    },
    {
      "cell_type": "code",
      "source": [
        "print(df.shape)"
      ],
      "metadata": {
        "colab": {
          "base_uri": "https://localhost:8080/"
        },
        "id": "8uAe3-XcFWYA",
        "outputId": "9730a6bd-b171-4d85-db4d-79a7b69ade85"
      },
      "execution_count": null,
      "outputs": [
        {
          "output_type": "stream",
          "name": "stdout",
          "text": [
            "(5, 3)\n"
          ]
        }
      ]
    },
    {
      "cell_type": "markdown",
      "source": [
        "---\n",
        "\n"
      ],
      "metadata": {
        "id": "bVZHPPbqF3Jn"
      }
    },
    {
      "cell_type": "markdown",
      "source": [],
      "metadata": {
        "id": "4BirTHN8F7TA"
      }
    },
    {
      "cell_type": "markdown",
      "source": [
        "# Sports Watch Data Set"
      ],
      "metadata": {
        "id": "9OWNLzx0JiLa"
      }
    },
    {
      "cell_type": "code",
      "source": [
        "import numpy as np\n",
        "sports={\n",
        "  'Duration': [30,30,45,45,45,60,60,60,75,75],\n",
        "  'Avg_Pulse': [80,85,90,95,100,105,110,115,120,125],\n",
        "  'Max_Pulse': [120,120,130,130,140,140,145,145,150,150],\n",
        "  'Cal_Burn': [240,250,260,270,280,290,300,310,320,330],\n",
        "  'Hrs_Wrk': [10,10,8,8,0,7,7,8,0,8],\n",
        "  'Hrs_Sleep': [7,7,7,7,7,8,8,8,8,8]\n",
        "}\n",
        "df1=pd.DataFrame(data=sports)\n",
        "print(df1.shape)\n",
        "print(df1)"
      ],
      "metadata": {
        "id": "kNS9667GI80B"
      },
      "execution_count": null,
      "outputs": []
    },
    {
      "cell_type": "markdown",
      "source": [
        "```max(), min(), and mean()```"
      ],
      "metadata": {
        "id": "-lk23UqrHk25"
      }
    },
    {
      "cell_type": "code",
      "source": [
        "avg_pulse_max=max(df1.Avg_Pulse)\n",
        "print(avg_pulse_max)\n",
        "avg_pulse_min=min(df1.Avg_Pulse)\n",
        "print(avg_pulse_min)\n",
        "avg_cal_burn=np.mean(df1.Cal_Burn)\n",
        "print(avg_cal_burn)"
      ],
      "metadata": {
        "colab": {
          "base_uri": "https://localhost:8080/"
        },
        "id": "nF7ewJVXHns4",
        "outputId": "2df9c3fc-044c-4a58-cacd-9bfd33025028"
      },
      "execution_count": null,
      "outputs": [
        {
          "output_type": "stream",
          "name": "stdout",
          "text": [
            "125\n"
          ]
        }
      ]
    },
    {
      "cell_type": "markdown",
      "source": [
        "# Statistical Analysis"
      ],
      "metadata": {
        "id": "QTMXtKAB81Hy"
      }
    },
    {
      "cell_type": "code",
      "source": [
        "summ=df1.describe()\n",
        "print(summ)"
      ],
      "metadata": {
        "colab": {
          "base_uri": "https://localhost:8080/"
        },
        "id": "S3sR27rmkIJM",
        "outputId": "9a9d7afc-20ae-4d56-b3a8-ed3caa81535f"
      },
      "execution_count": null,
      "outputs": [
        {
          "output_type": "stream",
          "name": "stdout",
          "text": [
            "        Duration   Avg_Pulse   Max_Pulse    Cal_Burn    Hrs_Wrk  Hrs_Sleep\n",
            "count  10.000000   10.000000   10.000000   10.000000  10.000000  10.000000\n",
            "mean   52.500000  102.500000  137.000000  285.000000   6.600000   7.500000\n",
            "std    16.201852   15.138252   11.352924   30.276504   3.627059   0.527046\n",
            "min    30.000000   80.000000  120.000000  240.000000   0.000000   7.000000\n",
            "25%    45.000000   91.250000  130.000000  262.500000   7.000000   7.000000\n",
            "50%    52.500000  102.500000  140.000000  285.000000   8.000000   7.500000\n",
            "75%    60.000000  113.750000  145.000000  307.500000   8.000000   8.000000\n",
            "max    75.000000  125.000000  150.000000  330.000000  10.000000   8.000000\n"
          ]
        }
      ]
    },
    {
      "cell_type": "markdown",
      "source": [
        "### Percentiles"
      ],
      "metadata": {
        "id": "QuxKXP_q81Hz"
      }
    },
    {
      "cell_type": "markdown",
      "source": [
        "*number that describes the value that a given percent of the values are lower than*"
      ],
      "metadata": {
        "id": "nNXC2rcC81Hz"
      }
    },
    {
      "cell_type": "markdown",
      "source": [
        "isolate variable from the dataset, use ``` np.percentile(variable,n)```"
      ],
      "metadata": {
        "id": "mPceMmGEDaxd"
      }
    },
    {
      "cell_type": "code",
      "source": [
        "Max_Pulse=df1['Max_Pulse']\n",
        "ptile10= np.percentile(Max_Pulse, 10)\n",
        "print(ptile10)"
      ],
      "metadata": {
        "colab": {
          "base_uri": "https://localhost:8080/"
        },
        "id": "EDSqFp1d81Hz",
        "outputId": "a557d284-1ce2-4e88-b523-8e59ca55be8d"
      },
      "execution_count": null,
      "outputs": [
        {
          "output_type": "stream",
          "name": "stdout",
          "text": [
            "120.0\n"
          ]
        }
      ]
    },
    {
      "cell_type": "markdown",
      "source": [
        "```implies that 10% entries are less than or equal to 120```"
      ],
      "metadata": {
        "id": "2PXjniooDxmc"
      }
    },
    {
      "cell_type": "code",
      "source": [
        "ptile25= np.percentile(Max_Pulse, 25)\n",
        "print(ptile25)"
      ],
      "metadata": {
        "colab": {
          "base_uri": "https://localhost:8080/"
        },
        "id": "_IBu1UHcDD8T",
        "outputId": "f3a0ae72-9ea8-47e5-db69-d8f5b60a32dc"
      },
      "execution_count": null,
      "outputs": [
        {
          "output_type": "stream",
          "name": "stdout",
          "text": [
            "130.0\n"
          ]
        }
      ]
    },
    {
      "cell_type": "markdown",
      "source": [
        "```implies that 25% entries are less than or equal to 130```"
      ],
      "metadata": {
        "id": "yD9atanTD61-"
      }
    },
    {
      "cell_type": "markdown",
      "source": [
        "### Standard Deviation"
      ],
      "metadata": {
        "id": "wfF-xhZFEFcc"
      }
    },
    {
      "cell_type": "code",
      "source": [
        "std=np.std(df1)\n",
        "print(std)"
      ],
      "metadata": {
        "colab": {
          "base_uri": "https://localhost:8080/"
        },
        "id": "_dHlU64ZEI51",
        "outputId": "63ae78e8-7a22-47c2-ba5d-1d0afdf9c4c0"
      },
      "execution_count": null,
      "outputs": [
        {
          "output_type": "stream",
          "name": "stdout",
          "text": [
            "Duration     15.370426\n",
            "Avg_Pulse    14.361407\n",
            "Max_Pulse    10.770330\n",
            "Cal_Burn     28.722813\n",
            "Hrs_Wrk       3.440930\n",
            "Hrs_Sleep     0.500000\n",
            "dtype: float64\n"
          ]
        }
      ]
    },
    {
      "cell_type": "code",
      "source": [
        "std1=np.std(Max_Pulse)\n",
        "print(std1)\n",
        "\n",
        "std2=np.std(df1['Duration'])\n",
        "print(std2)"
      ],
      "metadata": {
        "colab": {
          "base_uri": "https://localhost:8080/"
        },
        "id": "IJ6roijPEXi8",
        "outputId": "8a1a97b2-b7cc-44f3-fd1e-b2324f448869"
      },
      "execution_count": null,
      "outputs": [
        {
          "output_type": "stream",
          "name": "stdout",
          "text": [
            "10.770329614269007\n",
            "15.370426148939398\n"
          ]
        }
      ]
    },
    {
      "cell_type": "markdown",
      "source": [
        "### Coeff of Variation"
      ],
      "metadata": {
        "id": "igXE4Mu-EuF8"
      }
    },
    {
      "cell_type": "markdown",
      "source": [
        "```cv=std/mean```"
      ],
      "metadata": {
        "id": "Rn767SgREzAr"
      }
    },
    {
      "cell_type": "code",
      "source": [
        "cv=np.std(df1)/np.mean(df1)\n",
        "print(cv)\n",
        "\n",
        "cv1=np.std(Max_Pulse)/np.mean(Max_Pulse)\n",
        "print(cv1)"
      ],
      "metadata": {
        "colab": {
          "base_uri": "https://localhost:8080/"
        },
        "id": "liq9YGiqEw0s",
        "outputId": "6ef6abb8-9463-4560-a831-c4a8b84b7829"
      },
      "execution_count": null,
      "outputs": [
        {
          "output_type": "stream",
          "name": "stdout",
          "text": [
            "Duration     0.156019\n",
            "Avg_Pulse    0.145776\n",
            "Max_Pulse    0.109325\n",
            "Cal_Burn     0.291553\n",
            "Hrs_Wrk      0.034927\n",
            "Hrs_Sleep    0.005075\n",
            "dtype: float64\n",
            "0.07861554462970079\n"
          ]
        }
      ]
    },
    {
      "cell_type": "markdown",
      "source": [
        "> ? why are the two coeffs of variation of Max_Pulse diff?\n",
        "\n",
        "\n"
      ],
      "metadata": {
        "id": "0ORvSBz6H3TO"
      }
    },
    {
      "cell_type": "markdown",
      "source": [
        "### Variance\n",
        "\n"
      ],
      "metadata": {
        "id": "C6Uuz7JOIXHs"
      }
    },
    {
      "cell_type": "markdown",
      "source": [
        "\n",
        "```1. Mean```\n",
        "\n",
        "```2. Deviations```\n",
        "\n",
        "```3. Var```"
      ],
      "metadata": {
        "id": "HggnEZUJJPxt"
      }
    },
    {
      "cell_type": "code",
      "source": [
        "Average_Pulse=df1['Avg_Pulse']\n",
        "avg=np.mean(Average_Pulse)\n",
        "print(avg)\n",
        "\n",
        "l=[] #list of squared deviations\n",
        "for i in Average_Pulse:\n",
        "  l.append((i-avg)**2)\n",
        "\n",
        "n=len(Average_Pulse)\n",
        "var=sum(l)/n\n",
        "print(var)"
      ],
      "metadata": {
        "colab": {
          "base_uri": "https://localhost:8080/"
        },
        "id": "Dkc75SQLJekE",
        "outputId": "94457b4b-e74e-46a8-8983-6ef6fdf83cae"
      },
      "execution_count": null,
      "outputs": [
        {
          "output_type": "stream",
          "name": "stdout",
          "text": [
            "102.5\n",
            "206.25\n"
          ]
        }
      ]
    },
    {
      "cell_type": "markdown",
      "source": [
        "```var=std*std```"
      ],
      "metadata": {
        "id": "TUuJ0Jt0JFaX"
      }
    },
    {
      "cell_type": "code",
      "source": [
        "print(std*std)"
      ],
      "metadata": {
        "colab": {
          "base_uri": "https://localhost:8080/"
        },
        "id": "-QgmnOjeI0kn",
        "outputId": "44d1a2fe-b6d9-4c66-d237-56f79c1c34bb"
      },
      "execution_count": null,
      "outputs": [
        {
          "output_type": "stream",
          "name": "stdout",
          "text": [
            "Duration     236.25\n",
            "Avg_Pulse    206.25\n",
            "Max_Pulse    116.00\n",
            "Cal_Burn     825.00\n",
            "Hrs_Wrk       11.84\n",
            "Hrs_Sleep      0.25\n",
            "dtype: float64\n"
          ]
        }
      ]
    },
    {
      "cell_type": "markdown",
      "source": [
        "```var=np.var(d)```"
      ],
      "metadata": {
        "id": "InSwpk8cJJ0G"
      }
    },
    {
      "cell_type": "code",
      "source": [
        "var=np.var(df1)\n",
        "print(var)"
      ],
      "metadata": {
        "colab": {
          "base_uri": "https://localhost:8080/"
        },
        "id": "yYGgL9EtI9A-",
        "outputId": "f09b3819-bb95-465c-9e74-71313a05cb99"
      },
      "execution_count": null,
      "outputs": [
        {
          "output_type": "stream",
          "name": "stdout",
          "text": [
            "Duration     236.25\n",
            "Avg_Pulse    206.25\n",
            "Max_Pulse    116.00\n",
            "Cal_Burn     825.00\n",
            "Hrs_Wrk       11.84\n",
            "Hrs_Sleep      0.25\n",
            "dtype: float64\n"
          ]
        }
      ]
    },
    {
      "cell_type": "markdown",
      "source": [
        "### Correlation & Scatter Plot"
      ],
      "metadata": {
        "id": "PZ82Vw61MqNg"
      }
    },
    {
      "cell_type": "markdown",
      "source": [
        "*measures **numerical** relationship between two variables*\n",
        "\n",
        "*also uses scatterplot to do visualize relnsp*\n",
        "\n",
        "```1: perfect positive```\n",
        "\n",
        "```0: no linear relationship```\n",
        "\n",
        "```-1: perfect negative```"
      ],
      "metadata": {
        "id": "x3dCJI4XPKCX"
      }
    },
    {
      "cell_type": "code",
      "source": [
        "import matplotlib.pyplot as plt\n",
        "\n",
        "df1.plot(x='Avg_Pulse', y='Cal_Burn', kind='scatter')\n",
        "plt.show()"
      ],
      "metadata": {
        "colab": {
          "base_uri": "https://localhost:8080/",
          "height": 450
        },
        "id": "Hg2L5mo0MseV",
        "outputId": "9d30382b-f7fc-49a8-9830-e1d9276a340b"
      },
      "execution_count": null,
      "outputs": [
        {
          "output_type": "display_data",
          "data": {
            "text/plain": [
              "<Figure size 640x480 with 1 Axes>"
            ],
            "image/png": "[encoded data removed]"
          },
          "metadata": {}
        }
      ]
    },
    {
      "cell_type": "markdown",
      "source": [
        "```1 cause linear```"
      ],
      "metadata": {
        "id": "cynjZTlLRORK"
      }
    },
    {
      "cell_type": "code",
      "source": [
        "df1.plot(x='Duration', y='Max_Pulse', kind='scatter')\n",
        "plt.show()"
      ],
      "metadata": {
        "colab": {
          "base_uri": "https://localhost:8080/",
          "height": 449
        },
        "id": "PrSBjLrJQy_2",
        "outputId": "ef9c55e5-8d5e-46c8-a420-82c623415164"
      },
      "execution_count": null,
      "outputs": [
        {
          "output_type": "display_data",
          "data": {
            "text/plain": [
              "<Figure size 640x480 with 1 Axes>"
            ],
            "image/png": "[encoded data removed]"
          },
          "metadata": {}
        }
      ]
    },
    {
      "cell_type": "markdown",
      "source": [
        "```0 cause not linear```"
      ],
      "metadata": {
        "id": "VyYuNo43RNAy"
      }
    },
    {
      "cell_type": "code",
      "source": [
        "df1.plot(x='Cal_Burn', y='Hrs_Sleep', kind='scatter')\n",
        "plt.show()"
      ],
      "metadata": {
        "colab": {
          "base_uri": "https://localhost:8080/",
          "height": 450
        },
        "id": "yE3zePvqQZdj",
        "outputId": "f284b60d-472e-4afa-cce5-1c90e800bd66"
      },
      "execution_count": null,
      "outputs": [
        {
          "output_type": "display_data",
          "data": {
            "text/plain": [
              "<Figure size 640x480 with 1 Axes>"
            ],
            "image/png": "[encoded data removed]"
          },
          "metadata": {}
        }
      ]
    },
    {
      "cell_type": "markdown",
      "source": [
        "```0 cause not linear```"
      ],
      "metadata": {
        "id": "UJrTCDNxRIZg"
      }
    },
    {
      "cell_type": "markdown",
      "source": [
        "### Correlation Matrix"
      ],
      "metadata": {
        "id": "Xs5HZV6ER7D8"
      }
    },
    {
      "cell_type": "markdown",
      "source": [
        "```col*col matrix with corr coeffs```"
      ],
      "metadata": {
        "id": "OiMcM47uSC4Y"
      }
    },
    {
      "cell_type": "code",
      "source": [
        "corrMat=df1.corr()\n",
        "print(corrMat)\n",
        "print(\"\\n\")\n",
        "corrMat2=round(corrMat, 2)\n",
        "print(corrMat2)"
      ],
      "metadata": {
        "colab": {
          "base_uri": "https://localhost:8080/"
        },
        "id": "JPgCVVdkR87_",
        "outputId": "e1175587-a5ad-488b-800c-6b38f6330a44"
      },
      "execution_count": null,
      "outputs": [
        {
          "output_type": "stream",
          "name": "stdout",
          "text": [
            "           Duration  Avg_Pulse  Max_Pulse  Cal_Burn   Hrs_Wrk  Hrs_Sleep\n",
            "Duration   1.000000   0.968330   0.951405  0.968330 -0.425423   0.878310\n",
            "Avg_Pulse  0.968330   1.000000   0.969762  1.000000 -0.424958   0.870388\n",
            "Max_Pulse  0.951405   0.969762   1.000000  0.969762 -0.558554   0.835629\n",
            "Cal_Burn   0.968330   1.000000   0.969762  1.000000 -0.424958   0.870388\n",
            "Hrs_Wrk   -0.425423  -0.424958  -0.558554 -0.424958  1.000000  -0.174371\n",
            "Hrs_Sleep  0.878310   0.870388   0.835629  0.870388 -0.174371   1.000000\n",
            "\n",
            "\n",
            "           Duration  Avg_Pulse  Max_Pulse  Cal_Burn  Hrs_Wrk  Hrs_Sleep\n",
            "Duration       1.00       0.97       0.95      0.97    -0.43       0.88\n",
            "Avg_Pulse      0.97       1.00       0.97      1.00    -0.42       0.87\n",
            "Max_Pulse      0.95       0.97       1.00      0.97    -0.56       0.84\n",
            "Cal_Burn       0.97       1.00       0.97      1.00    -0.42       0.87\n",
            "Hrs_Wrk       -0.43      -0.42      -0.56     -0.42     1.00      -0.17\n",
            "Hrs_Sleep      0.88       0.87       0.84      0.87    -0.17       1.00\n"
          ]
        }
      ]
    },
    {
      "cell_type": "markdown",
      "source": [
        "### Heatmap"
      ],
      "metadata": {
        "id": "KAO2gThMqj7Y"
      }
    },
    {
      "cell_type": "markdown",
      "source": [
        "*Using seaborn*\n",
        "\n",
        "*closer to 1: greener | closer to -1: browner*"
      ],
      "metadata": {
        "id": "AlEIN-OQqsXT"
      }
    },
    {
      "cell_type": "code",
      "source": [
        "import matplotlib.pyplot as plt\n",
        "import seaborn as sns"
      ],
      "metadata": {
        "id": "0I-zdxhDqrWM"
      },
      "execution_count": null,
      "outputs": []
    },
    {
      "cell_type": "code",
      "source": [
        "corrm=df1.corr()"
      ],
      "metadata": {
        "id": "zyL7IazxrBkr"
      },
      "execution_count": null,
      "outputs": []
    },
    {
      "cell_type": "code",
      "source": [
        "axis_corr = sns.heatmap(corrm,\n",
        "              vmin=-1, vmax=1, center=0,\n",
        "              cmap=sns.diverging_palette(50,500,n=500),\n",
        "              square=True\n",
        "              )\n",
        "plt.show()"
      ],
      "metadata": {
        "colab": {
          "base_uri": "https://localhost:8080/",
          "height": 494
        },
        "id": "HK9eIrx9rKcr",
        "outputId": "165719f3-0471-4f0d-e3ef-d12733edc837"
      },
      "execution_count": null,
      "outputs": [
        {
          "output_type": "display_data",
          "data": {
            "text/plain": [
              "<Figure size 640x480 with 2 Axes>"
            ],
            "image/png": "[encoded data removed]"
          },
          "metadata": {}
        }
      ]
    },
    {
      "cell_type": "markdown",
      "source": [
        "### Causality"
      ],
      "metadata": {
        "id": "_zC07O1fyTAy"
      }
    },
    {
      "cell_type": "markdown",
      "source": [
        "*Discusses actual relation between variables, instead of a possibility which is given by Correlation*"
      ],
      "metadata": {
        "id": "drwiOiPGzGPB"
      }
    },
    {
      "cell_type": "markdown",
      "source": [
        "***While corr measures how closely related data is, causality is the conclusion that x causes y***"
      ],
      "metadata": {
        "id": "wxZSMpRs1sLf"
      }
    },
    {
      "cell_type": "code",
      "source": [
        "Drowning_Accident = [20,40,60,80,100,120,140,160,180,200]\n",
        "Ice_Cream_Sale = [20,40,60,80,100,120,140,160,180,200]\n",
        "Drowning = {\"Drowning_Accident\": [20,40,60,80,100,120,140,160,180,200],\n",
        "            \"Ice_Cream_Sale\": [20,40,60,80,100,120,140,160,180,200]\n",
        "            }"
      ],
      "metadata": {
        "id": "alRRSBegyV8Z"
      },
      "execution_count": null,
      "outputs": []
    },
    {
      "cell_type": "code",
      "source": [
        "Drowning= pd.DataFrame(Drowning)"
      ],
      "metadata": {
        "id": "HrTHBPLmziLC"
      },
      "execution_count": null,
      "outputs": []
    },
    {
      "cell_type": "code",
      "source": [
        "Drowning.plot(x='Ice_Cream_Sale', y='Drowning_Accident', kind=\"scatter\")\n",
        "plt.show()"
      ],
      "metadata": {
        "colab": {
          "base_uri": "https://localhost:8080/",
          "height": 450
        },
        "id": "9xvmZzXhz0Zr",
        "outputId": "e136917d-d4ab-48ef-86ab-d88cf26efa79"
      },
      "execution_count": null,
      "outputs": [
        {
          "output_type": "display_data",
          "data": {
            "text/plain": [
              "<Figure size 640x480 with 1 Axes>"
            ],
            "image/png": "[encoded data removed]"
          },
          "metadata": {}
        }
      ]
    },
    {
      "cell_type": "markdown",
      "source": [
        "**Correlation:**"
      ],
      "metadata": {
        "id": "abbDRRzr0PY7"
      }
    },
    {
      "cell_type": "code",
      "source": [
        "corr=Drowning.corr()\n",
        "print(corr)"
      ],
      "metadata": {
        "colab": {
          "base_uri": "https://localhost:8080/"
        },
        "id": "6lV6uRRt0Wf6",
        "outputId": "1436dc5b-6987-4aed-fef8-9d04ba9e118e"
      },
      "execution_count": null,
      "outputs": [
        {
          "output_type": "stream",
          "name": "stdout",
          "text": [
            "                   Drowning_Accident  Ice_Cream_Sale\n",
            "Drowning_Accident                1.0             1.0\n",
            "Ice_Cream_Sale                   1.0             1.0\n"
          ]
        }
      ]
    },
    {
      "cell_type": "markdown",
      "source": [
        "summer - high ice cream sale, drowning accidents increase - but they can't be related\n",
        "\n",
        "similarly, low(->0) corr doesnt mean they dont affect eo"
      ],
      "metadata": {
        "id": "tO-w7P3r05Xp"
      }
    },
    {
      "cell_type": "markdown",
      "source": [],
      "metadata": {
        "id": "fgAmAFJQ1Jaf"
      }
    },
    {
      "cell_type": "markdown",
      "source": [
        "# Function"
      ],
      "metadata": {
        "id": "6353UpsnAhaS"
      }
    },
    {
      "cell_type": "markdown",
      "source": [
        "### Linear Fxn"
      ],
      "metadata": {
        "id": "_KQBNNMakBxL"
      }
    },
    {
      "cell_type": "markdown",
      "source": [
        "aka straight line"
      ],
      "metadata": {
        "id": "fHEhyQRxnU2K"
      }
    },
    {
      "cell_type": "markdown",
      "source": [
        "One Explanatory Variable: One variable used for prediction"
      ],
      "metadata": {
        "id": "qLNcb99wmr6e"
      }
    },
    {
      "cell_type": "markdown",
      "source": [
        "```Cal_Burn and Avg_Pulse```\n",
        "\n",
        "cb must depend upon ap:\n",
        "\n",
        "* dep var: ```y=cb```\n",
        "* indep var: ```x=ap```\n",
        "\n",
        "\n",
        "\n",
        "```reln b/w ind and dep var:  y = f(x) = ax + b```"
      ],
      "metadata": {
        "id": "rizSBk3ElgyT"
      }
    },
    {
      "cell_type": "markdown",
      "source": [
        "### Slope & Intercept"
      ],
      "metadata": {
        "id": "QdBnqHAgk_YD"
      }
    },
    {
      "cell_type": "markdown",
      "source": [
        "### Slope: Change in y with 1 unit change in x"
      ],
      "metadata": {
        "id": "56pqS7gVsaY9"
      }
    },
    {
      "cell_type": "code",
      "source": [
        "x1=df1['Avg_Pulse'][2]\n",
        "y1=df1[\"Cal_Burn\"][2]\n",
        "x2=df1['Avg_Pulse'][0]\n",
        "y2=df1['Cal_Burn'][0]"
      ],
      "metadata": {
        "id": "N2Pd7WKjs73K"
      },
      "execution_count": null,
      "outputs": []
    },
    {
      "cell_type": "markdown",
      "source": [
        "```y=2x+c```"
      ],
      "metadata": {
        "id": "g_wX6Vpjt6j2"
      }
    },
    {
      "cell_type": "code",
      "source": [
        "def slope(x1,y1,x2,y2):\n",
        "  s=(y2-y1)/(x2-x1)\n",
        "  return s\n",
        "#print(slope(x1,y1,x2,y2)) #or directly\n",
        "slope=slope(80,240,90,260)\n",
        "print(slope)"
      ],
      "metadata": {
        "colab": {
          "base_uri": "https://localhost:8080/"
        },
        "id": "Ye8ORv0RlCYn",
        "outputId": "f2e5dd9d-47a3-446f-fae4-cc24d826412f"
      },
      "execution_count": null,
      "outputs": [
        {
          "output_type": "stream",
          "name": "stdout",
          "text": [
            "2.0\n"
          ]
        }
      ]
    },
    {
      "cell_type": "code",
      "source": [
        "intercept=y2-slope*(x2)\n",
        "print(intercept)"
      ],
      "metadata": {
        "colab": {
          "base_uri": "https://localhost:8080/"
        },
        "id": "vDOyZa2Ft-RK",
        "outputId": "1ff77f3f-c72d-4ac2-c9bd-315c3b260b0b"
      },
      "execution_count": null,
      "outputs": [
        {
          "output_type": "stream",
          "name": "stdout",
          "text": [
            "80.0\n"
          ]
        }
      ]
    },
    {
      "cell_type": "code",
      "source": [
        "line= 'y = ' + str(slope) + '*x + '+ str(intercept)\n",
        "print(line)"
      ],
      "metadata": {
        "id": "ujDPCHYTuKRM",
        "colab": {
          "base_uri": "https://localhost:8080/"
        },
        "outputId": "a6087ed6-4dad-4402-c4b2-d839af7971ec"
      },
      "execution_count": null,
      "outputs": [
        {
          "output_type": "stream",
          "name": "stdout",
          "text": [
            "y = 2.0*x + 80.0\n"
          ]
        }
      ]
    },
    {
      "cell_type": "markdown",
      "source": [
        "\n",
        "\n",
        "---"
      ],
      "metadata": {
        "id": "8C7Ps068JQ6Z"
      }
    },
    {
      "cell_type": "markdown",
      "source": [
        "### Using np"
      ],
      "metadata": {
        "id": "EWqtOlecwZoo"
      }
    },
    {
      "cell_type": "code",
      "source": [
        "import pandas as pd\n",
        "import numpy as np"
      ],
      "metadata": {
        "id": "FQmKv6vhwfjq"
      },
      "execution_count": null,
      "outputs": []
    },
    {
      "cell_type": "code",
      "source": [
        "#df1 loaded\n",
        "x=df1['Avg_Pulse']\n",
        "y=df1['Cal_Burn']\n",
        "\n",
        "slope_intercept=np.polyfit(x,y,1)\n",
        "\n",
        "print(slope_intercept)"
      ],
      "metadata": {
        "id": "HSOvDu8iwlAt",
        "colab": {
          "base_uri": "https://localhost:8080/"
        },
        "outputId": "6ed2b4ce-cc32-431a-d4ad-c70ab2f57137"
      },
      "execution_count": null,
      "outputs": [
        {
          "output_type": "stream",
          "name": "stdout",
          "text": [
            "[ 2. 80.]\n"
          ]
        }
      ]
    },
    {
      "cell_type": "code",
      "source": [
        "print(type(slope_intercept))"
      ],
      "metadata": {
        "id": "WVEcsTgIxis_",
        "colab": {
          "base_uri": "https://localhost:8080/"
        },
        "outputId": "cb8ae9c0-68ab-402b-a37f-0717122331c1"
      },
      "execution_count": null,
      "outputs": [
        {
          "output_type": "stream",
          "name": "stdout",
          "text": [
            "<class 'numpy.ndarray'>\n"
          ]
        }
      ]
    },
    {
      "cell_type": "code",
      "source": [
        "slope=(slope_intercept[0])\n",
        "intercept=slope_intercept[1]\n",
        "print(slope)\n",
        "print(intercept)"
      ],
      "metadata": {
        "id": "Nf6rdI6q2bDo",
        "colab": {
          "base_uri": "https://localhost:8080/"
        },
        "outputId": "8e21a299-07f1-40f0-ad45-36d665c76147"
      },
      "execution_count": null,
      "outputs": [
        {
          "output_type": "stream",
          "name": "stdout",
          "text": [
            "1.9999999999999996\n",
            "79.99999999999994\n"
          ]
        }
      ]
    },
    {
      "cell_type": "markdown",
      "source": [
        "### Plotting Fxn"
      ],
      "metadata": {
        "id": "Ezmz_-wbk8CC"
      }
    },
    {
      "cell_type": "code",
      "source": [
        "import matplotlib.pyplot as plt"
      ],
      "metadata": {
        "id": "f6xNzk1yk-3_"
      },
      "execution_count": null,
      "outputs": []
    },
    {
      "cell_type": "code",
      "source": [
        "df1.plot(x='Avg_Pulse', y='Cal_Burn', kind='line')\n",
        "plt.ylim(ymin=0)\n",
        "plt.xlim(xmin=0)\n",
        "\n",
        "plt.show()"
      ],
      "metadata": {
        "colab": {
          "base_uri": "https://localhost:8080/",
          "height": 450
        },
        "id": "Y2lGJmXgoCZP",
        "outputId": "bb51eb37-f3f0-4bf6-a7e8-b311e4fea0ab"
      },
      "execution_count": null,
      "outputs": [
        {
          "output_type": "display_data",
          "data": {
            "text/plain": [
              "<Figure size 640x480 with 1 Axes>"
            ],
            "image/png": "[encoded data removed]"
          },
          "metadata": {}
        }
      ]
    },
    {
      "cell_type": "markdown",
      "source": [
        "The line is straight, as initially assumed.\n",
        "\n",
        "Hence, Avg_Pulse can be used to accurately predict Cal_Burn"
      ],
      "metadata": {
        "id": "3JtBR3Q9roYB"
      }
    },
    {
      "cell_type": "markdown",
      "source": [
        "# Linear Regression"
      ],
      "metadata": {
        "id": "2-1dkh_y6mbF"
      }
    },
    {
      "cell_type": "markdown",
      "source": [
        "\n",
        "\n",
        "1.  ```libraries```\n",
        "2. ```define x, y```  \n",
        "3. ```mcrp stderror = stat.linregress(x,y)```\n",
        "4. ```f = regression function```\n",
        "5. NR: ```mymodel=list(map(f, x))```\n",
        "6.```plt.scatter(x,y)```\n",
        "7. ```plt.plot(x,f(x)) or (x,mymodel)```\n",
        "8. ```plot limits & labels```\n",
        "\n"
      ],
      "metadata": {
        "id": "UNY_aquTKQzQ"
      }
    },
    {
      "cell_type": "code",
      "source": [
        "import pandas as pd\n",
        "import numpy as np\n",
        "from scipy import stats"
      ],
      "metadata": {
        "id": "FpAZ5OzR6pFy"
      },
      "execution_count": null,
      "outputs": []
    },
    {
      "cell_type": "markdown",
      "source": [
        "\n",
        "\n",
        "> 2\n",
        "\n"
      ],
      "metadata": {
        "id": "2SNOYQb7AgtI"
      }
    },
    {
      "cell_type": "code",
      "source": [
        "x=df1['Avg_Pulse']\n",
        "y=df1['Cal_Burn']"
      ],
      "metadata": {
        "id": "ZBcbIxux9_sl"
      },
      "execution_count": null,
      "outputs": []
    },
    {
      "cell_type": "markdown",
      "source": [
        "\n",
        "\n",
        "> 3\n",
        "\n"
      ],
      "metadata": {
        "id": "crVAmzCPAind"
      }
    },
    {
      "cell_type": "code",
      "source": [
        "m, c, r, p, std_err = stats.linregress(x,y)\n",
        "print(m,c,r,p,std_err)"
      ],
      "metadata": {
        "colab": {
          "base_uri": "https://localhost:8080/"
        },
        "id": "zbBGa6UY-atx",
        "outputId": "8a387928-eada-4665-958c-27bc73ec8bf6"
      },
      "execution_count": null,
      "outputs": [
        {
          "output_type": "stream",
          "name": "stdout",
          "text": [
            "2.0 80.0 1.0 4.375000000000076e-80 0.0\n"
          ]
        }
      ]
    },
    {
      "cell_type": "markdown",
      "source": [
        "\n",
        "\n",
        "> 4\n",
        "\n"
      ],
      "metadata": {
        "id": "b_HnQsy3AlVg"
      }
    },
    {
      "cell_type": "code",
      "source": [
        "def f(x):\n",
        "  return (m*x+c)"
      ],
      "metadata": {
        "id": "itav8W11AfTB"
      },
      "execution_count": null,
      "outputs": []
    },
    {
      "cell_type": "markdown",
      "source": [
        "\n",
        "> 5\n",
        "\n"
      ],
      "metadata": {
        "id": "Eh3qIkovAxLO"
      }
    },
    {
      "cell_type": "code",
      "source": [
        "mymodel = list(map(f,x))\n",
        "\n",
        "print(list(x))\n",
        "print(mymodel)"
      ],
      "metadata": {
        "colab": {
          "base_uri": "https://localhost:8080/"
        },
        "id": "kJmpyxEAAxeo",
        "outputId": "0dfdd0a5-142a-4819-ae9f-92de744d25f3"
      },
      "execution_count": null,
      "outputs": [
        {
          "output_type": "stream",
          "name": "stdout",
          "text": [
            "[80, 85, 90, 95, 100, 105, 110, 115, 120, 125]\n",
            "[240.0, 250.0, 260.0, 270.0, 280.0, 290.0, 300.0, 310.0, 320.0, 330.0]\n"
          ]
        }
      ]
    },
    {
      "cell_type": "markdown",
      "source": [
        "\n",
        "\n",
        "> 6\n",
        "\n"
      ],
      "metadata": {
        "id": "uESxMEGgBRTW"
      }
    },
    {
      "cell_type": "code",
      "source": [
        "plt.scatter(x,y)\n",
        "#df1.plot(x='Avg_Pulse',y='Cal_Burn', kind='scatter') #also correct"
      ],
      "metadata": {
        "colab": {
          "base_uri": "https://localhost:8080/",
          "height": 447
        },
        "id": "BZXEN9QoBO7d",
        "outputId": "2d64e76b-efcf-4597-c640-7e7990ef7778"
      },
      "execution_count": null,
      "outputs": [
        {
          "output_type": "execute_result",
          "data": {
            "text/plain": [
              "<matplotlib.collections.PathCollection at 0x78303a18dc60>"
            ]
          },
          "metadata": {},
          "execution_count": 49
        },
        {
          "output_type": "display_data",
          "data": {
            "text/plain": [
              "<Figure size 640x480 with 1 Axes>"
            ],
            "image/png": "[encoded data removed]"
          },
          "metadata": {}
        }
      ]
    },
    {
      "cell_type": "code",
      "source": [
        "#df1.plot(x='Avg_Pulse', y=mymodel, kind='line') #error\n",
        "plt.plot(x,mymodel) #or plt.plot(x,f(x))"
      ],
      "metadata": {
        "colab": {
          "base_uri": "https://localhost:8080/",
          "height": 447
        },
        "collapsed": true,
        "id": "4fHLN-_2BPZ-",
        "outputId": "07f23e5a-6194-4441-bd04-0219b5238d3d"
      },
      "execution_count": null,
      "outputs": [
        {
          "output_type": "execute_result",
          "data": {
            "text/plain": [
              "[<matplotlib.lines.Line2D at 0x783039ffc790>]"
            ]
          },
          "metadata": {},
          "execution_count": 50
        },
        {
          "output_type": "display_data",
          "data": {
            "text/plain": [
              "<Figure size 640x480 with 1 Axes>"
            ],
            "image/png": "[encoded data removed]"
          },
          "metadata": {}
        }
      ]
    },
    {
      "cell_type": "code",
      "source": [
        "plt.scatter(x,y)\n",
        "plt.plot(x,f(x))\n",
        "#plt.plot(x,mymodel)\n",
        "\n",
        "plt.ylim(ymin=0, ymax=500)\n",
        "plt.xlim(xmin=0, xmax=200)\n",
        "\n",
        "plt.ylabel('Cal_Burn')\n",
        "plt.xlabel('Avg_Pulse')\n",
        "\n",
        "plt.show()"
      ],
      "metadata": {
        "colab": {
          "base_uri": "https://localhost:8080/",
          "height": 455
        },
        "id": "R_gebLzADvMm",
        "outputId": "3c74f770-5cee-4f9c-a2ce-2359087f0bbc"
      },
      "execution_count": null,
      "outputs": [
        {
          "output_type": "display_data",
          "data": {
            "text/plain": [
              "<Figure size 640x480 with 1 Axes>"
            ],
            "image/png": "[encoded data removed]"
          },
          "metadata": {}
        }
      ]
    },
    {
      "cell_type": "markdown",
      "source": [
        "## Regression Table"
      ],
      "metadata": {
        "id": "eFnIQQwcBOn3"
      }
    },
    {
      "cell_type": "markdown",
      "source": [
        "\n",
        "*   Information about the model\n",
        "* Coefficients of the linear regression function\n",
        "* Regression statistics\n",
        "* Statistics of the coefficients from the linear regression function\n",
        "\n",
        "\n"
      ],
      "metadata": {
        "id": "oTr6-eVYNyHp"
      }
    },
    {
      "cell_type": "markdown",
      "source": [
        "Explanatory Variable: ```'Avg_Pulse'```"
      ],
      "metadata": {
        "id": "EsdLATUtNnIb"
      }
    },
    {
      "cell_type": "markdown",
      "source": [],
      "metadata": {
        "id": "3RCgh7qjNVDt"
      }
    },
    {
      "cell_type": "code",
      "source": [
        "import statsmodels.formula.api as smf"
      ],
      "metadata": {
        "id": "n-ZEO-1zNVhm"
      },
      "execution_count": null,
      "outputs": []
    },
    {
      "cell_type": "code",
      "source": [
        "model=smf.ols('Cal_Burn ~ Avg_Pulse',\n",
        "              data=df1)\n",
        "\n",
        "results=model.fit()\n",
        "print(results.summary())"
      ],
      "metadata": {
        "colab": {
          "base_uri": "https://localhost:8080/"
        },
        "id": "4n54fMEUNU1U",
        "outputId": "8a0c7b4b-4fec-47f2-fc20-dec90ceec5e3"
      },
      "execution_count": null,
      "outputs": [
        {
          "output_type": "stream",
          "name": "stdout",
          "text": [
            "                            OLS Regression Results                            \n",
            "==============================================================================\n",
            "Dep. Variable:               Cal_Burn   R-squared:                       1.000\n",
            "Model:                            OLS   Adj. R-squared:                  1.000\n",
            "Method:                 Least Squares   F-statistic:                 5.795e+29\n",
            "Date:                Sun, 16 Jun 2024   Prob (F-statistic):          9.93e-117\n",
            "Time:                        20:24:39   Log-Likelihood:                 284.50\n",
            "No. Observations:                  10   AIC:                            -565.0\n",
            "Df Residuals:                       8   BIC:                            -564.4\n",
            "Df Model:                           1                                         \n",
            "Covariance Type:            nonrobust                                         \n",
            "==============================================================================\n",
            "                 coef    std err          t      P>|t|      [0.025      0.975]\n",
            "------------------------------------------------------------------------------\n",
            "Intercept     80.0000   2.72e-13   2.94e+14      0.000      80.000      80.000\n",
            "Avg_Pulse      2.0000   2.63e-15   7.61e+14      0.000       2.000       2.000\n",
            "==============================================================================\n",
            "Omnibus:                       15.472   Durbin-Watson:                   0.014\n",
            "Prob(Omnibus):                  0.000   Jarque-Bera (JB):                8.069\n",
            "Skew:                          -1.920   Prob(JB):                       0.0177\n",
            "Kurtosis:                       5.150   Cond. No.                         746.\n",
            "==============================================================================\n",
            "\n",
            "Notes:\n",
            "[1] Standard Errors assume that the covariance matrix of the errors is correctly specified.\n"
          ]
        },
        {
          "output_type": "stream",
          "name": "stderr",
          "text": [
            "/usr/local/lib/python3.10/dist-packages/scipy/stats/_stats_py.py:1806: UserWarning: kurtosistest only valid for n>=20 ... continuing anyway, n=10\n",
            "  warnings.warn(\"kurtosistest only valid for n>=20 ... continuing \"\n"
          ]
        }
      ]
    },
    {
      "cell_type": "markdown",
      "source": [
        "### **Coeff:**"
      ],
      "metadata": {
        "id": "G-OaeOwsUH_N"
      }
    },
    {
      "cell_type": "markdown",
      "source": [
        "![image.png](data:image/png;base64,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)"
      ],
      "metadata": {
        "id": "W94DB3cUSSbm"
      }
    },
    {
      "cell_type": "markdown",
      "source": [
        "*   m = ```D(AP)=1 => D(CB)=2```\n",
        "*   c = ```AP=0 => CB=80```\n",
        "> ```intercept used to adjust the precision of the model's prediction```\n",
        ">  ```helps form lin reg fxn```\n",
        "\n"
      ],
      "metadata": {
        "id": "3kM6uGcmSUUH"
      }
    },
    {
      "cell_type": "code",
      "source": [
        "def cb_prediction(Avg_Pulse):\n",
        "  return(2*Avg_Pulse + 80)\n",
        "\n",
        "print(cb_prediction(120))\n",
        "print(cb_prediction(130))\n",
        "print(cb_prediction(150))\n",
        "print(cb_prediction(180))"
      ],
      "metadata": {
        "colab": {
          "base_uri": "https://localhost:8080/"
        },
        "id": "RqmviA5kQor8",
        "outputId": "b2ff1fac-498d-455a-8114-b004245f189b"
      },
      "execution_count": null,
      "outputs": [
        {
          "output_type": "stream",
          "name": "stdout",
          "text": [
            "320\n",
            "340\n",
            "380\n",
            "440\n"
          ]
        }
      ]
    },
    {
      "cell_type": "markdown",
      "source": [
        "### **Stats of Coeff**\n"
      ],
      "metadata": {
        "id": "7DQMuSmUUFKF"
      }
    },
    {
      "cell_type": "markdown",
      "source": [
        "![image.png](data:image/png;base64,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)"
      ],
      "metadata": {
        "id": "bUXcRe6fT8-V"
      }
    },
    {
      "cell_type": "markdown",
      "source": [
        "To test if LRF coeffs impact Dep Var =>\n",
        " statistical rel b/w Dep & Indep Var\n",
        "\n",
        " 4 components explaining stats of coeffs:"
      ],
      "metadata": {
        "id": "RT_1sQS8Dfxo"
      }
    },
    {
      "cell_type": "markdown",
      "source": [
        "### 1. *P value:* ```P>|t|```\n",
        "\n",
        "helps conclude if there's a rs b/w IV & DV\n",
        "\n",
        "***Hypothesis Testing***: stat testfor true value of coeff = 0 (no rs)\n",
        "*     ```<0.05: likely that ceoff!=0```\n",
        "*     ```>0.05: cannot conclude EV affects DV```\n",
        "*     ```high p value => insignificant Pvalue```"
      ],
      "metadata": {
        "id": "pXKPNQSNGYnw"
      }
    },
    {
      "cell_type": "markdown",
      "source": [
        "***Hypothesis Testing***: tests validity of results\n",
        "\n",
        "Testing if ```true coeff = 0```\n",
        "*   Null Hypothesis: ```H0: TC=0``` -> NO RS\n",
        "*   Alternative Hypothesis: ```HA: Rejected H0``` -> RS EXISTS\n",
        "\n",
        "\n",
        "```H0: Avg_Pulse =0``` | ```HA: Avg_Pulse !=0```\n",
        "\n",
        "```H0: Intercept =0``` | ```HA: Intercept !_0```"
      ],
      "metadata": {
        "id": "WzMRnlIfLAW_"
      }
    },
    {
      "cell_type": "markdown",
      "source": [
        "2. *Std Error*\n",
        "\n",
        "\n",
        "\n",
        "3. *t value:* ```t```\n",
        "\n",
        "4. *CI:* ```[0.025 0.975]```"
      ],
      "metadata": {
        "id": "jiC_lh4BUh2P"
      }
    },
    {
      "cell_type": "markdown",
      "source": [
        "# Linear Regression 2.0"
      ],
      "metadata": {
        "id": "GhNgca4gdwph"
      }
    },
    {
      "cell_type": "code",
      "source": [
        "import numpy as np\n",
        "import pandas as pd\n",
        "import matplotlib.pyplot as plt\n",
        "from scipy import stats"
      ],
      "metadata": {
        "id": "RPZ-NVxQOVOn"
      },
      "execution_count": null,
      "outputs": []
    },
    {
      "cell_type": "code",
      "source": [
        "x=df1['Duration']\n",
        "y=df1['Avg_Pulse']"
      ],
      "metadata": {
        "id": "Dr0IqolrT9Tl"
      },
      "execution_count": null,
      "outputs": []
    },
    {
      "cell_type": "code",
      "source": [
        "m, c, r, p, se = stats.linregress(x,y)"
      ],
      "metadata": {
        "id": "ETaD50N7GJcX"
      },
      "execution_count": null,
      "outputs": []
    },
    {
      "cell_type": "code",
      "source": [
        "def f(x):\n",
        "  return (m*x+c)"
      ],
      "metadata": {
        "id": "WTllvgPGGJ7i"
      },
      "execution_count": null,
      "outputs": []
    },
    {
      "cell_type": "code",
      "source": [
        "plt.scatter(x,y)\n",
        "plt.plot(x,f(x))\n",
        "\n",
        "plt.ylim(ymin=0)\n",
        "plt.xlim(xmin=0)\n",
        "\n",
        "plt.ylabel('Avg_Pulse')\n",
        "plt.xlabel('Duration')\n",
        "\n",
        "plt.show()"
      ],
      "metadata": {
        "id": "t_ftinSAGHQ-",
        "colab": {
          "base_uri": "https://localhost:8080/",
          "height": 449
        },
        "outputId": "27d62435-df6a-4973-9b17-6b12c9c29d12"
      },
      "execution_count": null,
      "outputs": [
        {
          "output_type": "display_data",
          "data": {
            "text/plain": [
              "<Figure size 640x480 with 1 Axes>"
            ],
            "image/png": "[encoded data removed]"
          },
          "metadata": {}
        }
      ]
    },
    {
      "cell_type": "markdown",
      "source": [
        "## Table"
      ],
      "metadata": {
        "id": "dUVTGFIdxcK9"
      }
    },
    {
      "cell_type": "code",
      "source": [
        "import statsmodels.formula.api as smf"
      ],
      "metadata": {
        "id": "pEY1ifdfxeqW"
      },
      "execution_count": null,
      "outputs": []
    },
    {
      "cell_type": "code",
      "source": [
        "model=smf.ols('Avg_Pulse ~ Duration',\n",
        "              data=df1)\n",
        "\n",
        "results=model.fit()\n",
        "\n",
        "print(results.summary())"
      ],
      "metadata": {
        "colab": {
          "base_uri": "https://localhost:8080/"
        },
        "id": "jPpA4SM9xqxb",
        "outputId": "2448870a-59a1-4bad-8f2e-c20208a646a9"
      },
      "execution_count": null,
      "outputs": [
        {
          "output_type": "stream",
          "name": "stdout",
          "text": [
            "                            OLS Regression Results                            \n",
            "==============================================================================\n",
            "Dep. Variable:              Avg_Pulse   R-squared:                       0.938\n",
            "Model:                            OLS   Adj. R-squared:                  0.930\n",
            "Method:                 Least Squares   F-statistic:                     120.3\n",
            "Date:                Sun, 16 Jun 2024   Prob (F-statistic):           4.24e-06\n",
            "Time:                        20:41:35   Log-Likelihood:                -26.959\n",
            "No. Observations:                  10   AIC:                             57.92\n",
            "Df Residuals:                       8   BIC:                             58.52\n",
            "Df Model:                           1                                         \n",
            "Covariance Type:            nonrobust                                         \n",
            "==============================================================================\n",
            "                 coef    std err          t      P>|t|      [0.025      0.975]\n",
            "------------------------------------------------------------------------------\n",
            "Intercept     55.0000      4.512     12.190      0.000      44.596      65.404\n",
            "Duration       0.9048      0.082     10.970      0.000       0.715       1.095\n",
            "==============================================================================\n",
            "Omnibus:                        0.858   Durbin-Watson:                   2.881\n",
            "Prob(Omnibus):                  0.651   Jarque-Bera (JB):                0.595\n",
            "Skew:                          -0.000   Prob(JB):                        0.743\n",
            "Kurtosis:                       1.805   Cond. No.                         195.\n",
            "==============================================================================\n",
            "\n",
            "Notes:\n",
            "[1] Standard Errors assume that the covariance matrix of the errors is correctly specified.\n"
          ]
        },
        {
          "output_type": "stream",
          "name": "stderr",
          "text": [
            "/usr/local/lib/python3.10/dist-packages/scipy/stats/_stats_py.py:1806: UserWarning: kurtosistest only valid for n>=20 ... continuing anyway, n=10\n",
            "  warnings.warn(\"kurtosistest only valid for n>=20 ... continuing \"\n"
          ]
        }
      ]
    },
    {
      "cell_type": "markdown",
      "source": [
        "\n",
        "# Tasks"
      ],
      "metadata": {
        "id": "KV0n2m0P22wf"
      }
    },
    {
      "cell_type": "code",
      "source": [
        "def fx(x):\n",
        "  return(slope*x + intercept)"
      ],
      "metadata": {
        "id": "yw1-xSUo2h14"
      },
      "execution_count": null,
      "outputs": []
    },
    {
      "cell_type": "code",
      "source": [
        "print(fx(135))"
      ],
      "metadata": {
        "id": "hv7q9MOU2vgw",
        "colab": {
          "base_uri": "https://localhost:8080/"
        },
        "outputId": "dbd63f5c-c17b-4d51-881a-575877d20253"
      },
      "execution_count": null,
      "outputs": [
        {
          "output_type": "stream",
          "name": "stdout",
          "text": [
            "349.9999999999999\n"
          ]
        }
      ]
    },
    {
      "cell_type": "markdown",
      "source": [
        "plot new graph"
      ],
      "metadata": {
        "id": "ab46sOel3Brg"
      }
    },
    {
      "cell_type": "code",
      "source": [
        "import matplotlib.pyplot as plt\n",
        "\n",
        "df1.plot(x='Avg_Pulse', y='Cal_Burn', kind='line')\n",
        "plt.ylim(ymin=0, ymax=400)\n",
        "plt.xlim(xmin=0, xmax=150)\n",
        "\n",
        "plt.show()"
      ],
      "metadata": {
        "id": "4RuV3JER3EFg",
        "colab": {
          "base_uri": "https://localhost:8080/",
          "height": 455
        },
        "outputId": "da89e49b-48ec-43b7-e4c7-c12ba0cf06cd"
      },
      "execution_count": null,
      "outputs": [
        {
          "output_type": "display_data",
          "data": {
            "text/plain": [
              "<Figure size 640x480 with 1 Axes>"
            ],
            "image/png": "[encoded data removed]"
          },
          "metadata": {}
        }
      ]
    },
    {
      "cell_type": "markdown",
      "source": [
        "Use two vsriables to predict third\n",
        "*   Duration and Avg_Pulse\n",
        "*   Predict Cal_Burnage"
      ],
      "metadata": {
        "id": "TmyFyxMA16Hs"
      }
    },
    {
      "cell_type": "code",
      "source": [
        "import statsmodels.formula.api as smf"
      ],
      "metadata": {
        "id": "1oaduMNw2EBV"
      },
      "execution_count": null,
      "outputs": []
    },
    {
      "cell_type": "code",
      "source": [
        "model = smf.ols('Cal_Burn ~ Avg_Pulse + Duration',\n",
        "                data = df1)"
      ],
      "metadata": {
        "id": "S1R77KVH2JWX"
      },
      "execution_count": null,
      "outputs": []
    },
    {
      "cell_type": "code",
      "source": [
        "results=model.fit()"
      ],
      "metadata": {
        "id": "TE51-ON52a03"
      },
      "execution_count": null,
      "outputs": []
    },
    {
      "cell_type": "code",
      "source": [
        "print(results.summary())"
      ],
      "metadata": {
        "colab": {
          "base_uri": "https://localhost:8080/"
        },
        "id": "-0fqqMCD2dgK",
        "outputId": "f359d42d-a194-440d-901e-83cdb95a7cd5"
      },
      "execution_count": null,
      "outputs": [
        {
          "output_type": "stream",
          "name": "stdout",
          "text": [
            "                            OLS Regression Results                            \n",
            "==============================================================================\n",
            "Dep. Variable:               Cal_Burn   R-squared:                       1.000\n",
            "Model:                            OLS   Adj. R-squared:                  1.000\n",
            "Method:                 Least Squares   F-statistic:                 2.399e+29\n",
            "Date:                Sun, 16 Jun 2024   Prob (F-statistic):          1.19e-101\n",
            "Time:                        21:00:30   Log-Likelihood:                 284.22\n",
            "No. Observations:                  10   AIC:                            -562.4\n",
            "Df Residuals:                       7   BIC:                            -561.5\n",
            "Df Model:                           2                                         \n",
            "Covariance Type:            nonrobust                                         \n",
            "==============================================================================\n",
            "                 coef    std err          t      P>|t|      [0.025      0.975]\n",
            "------------------------------------------------------------------------------\n",
            "Intercept     80.0000   6.53e-13   1.23e+14      0.000      80.000      80.000\n",
            "Avg_Pulse      2.0000   1.16e-14   1.73e+14      0.000       2.000       2.000\n",
            "Duration    2.665e-15   1.08e-14      0.247      0.812   -2.29e-14    2.82e-14\n",
            "==============================================================================\n",
            "Omnibus:                        0.978   Durbin-Watson:                   0.121\n",
            "Prob(Omnibus):                  0.613   Jarque-Bera (JB):                0.046\n",
            "Skew:                           0.162   Prob(JB):                        0.977\n",
            "Kurtosis:                       3.072   Cond. No.                     1.84e+03\n",
            "==============================================================================\n",
            "\n",
            "Notes:\n",
            "[1] Standard Errors assume that the covariance matrix of the errors is correctly specified.\n",
            "[2] The condition number is large, 1.84e+03. This might indicate that there are\n",
            "strong multicollinearity or other numerical problems.\n"
          ]
        },
        {
          "output_type": "stream",
          "name": "stderr",
          "text": [
            "/usr/local/lib/python3.10/dist-packages/scipy/stats/_stats_py.py:1806: UserWarning: kurtosistest only valid for n>=20 ... continuing anyway, n=10\n",
            "  warnings.warn(\"kurtosistest only valid for n>=20 ... continuing \"\n"
          ]
        }
      ]
    },
    {
      "cell_type": "code",
      "source": [
        "def f(x,z):\n",
        "  return (2*x + (2.665e-15)*z + 80)"
      ],
      "metadata": {
        "id": "PI1HbGVn2pET"
      },
      "execution_count": null,
      "outputs": []
    },
    {
      "cell_type": "code",
      "source": [
        "print(f(110,60))\n",
        "print(f(140,45))\n",
        "print(f(175,20))"
      ],
      "metadata": {
        "colab": {
          "base_uri": "https://localhost:8080/"
        },
        "id": "nFS1jpSe4deF",
        "outputId": "553b31f6-cdd6-418b-a3bc-41b24221844f"
      },
      "execution_count": null,
      "outputs": [
        {
          "output_type": "stream",
          "name": "stdout",
          "text": [
            "300.00000000000017\n",
            "360.0000000000001\n",
            "430.00000000000006\n"
          ]
        }
      ]
    },
    {
      "cell_type": "code",
      "source": [
        "import matplotlib.pyplot as plt\n",
        "\n",
        "x=df1['Avg_Pulse']\n",
        "z=df1['Duration']\n",
        "y=df1['Cal_Burn']\n",
        "\n",
        "plt.scatter(x,z,y)\n",
        "plt.plot(x,z,f(x,z))"
      ],
      "metadata": {
        "colab": {
          "base_uri": "https://localhost:8080/",
          "height": 465
        },
        "id": "oETLkQMI2o_b",
        "outputId": "d9e170db-7906-454b-bd80-17f7f8c845d3"
      },
      "execution_count": null,
      "outputs": [
        {
          "output_type": "execute_result",
          "data": {
            "text/plain": [
              "[<matplotlib.lines.Line2D at 0x783033d15c30>,\n",
              " <matplotlib.lines.Line2D at 0x783033d15ea0>]"
            ]
          },
          "metadata": {},
          "execution_count": 82
        },
        {
          "output_type": "display_data",
          "data": {
            "text/plain": [
              "<Figure size 640x480 with 1 Axes>"
            ],
            "image/png": "[encoded data removed]"
          },
          "metadata": {}
        }
      ]
    }
  ]
}